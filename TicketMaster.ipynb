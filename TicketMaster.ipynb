{
 "cells": [
  {
   "cell_type": "code",
   "execution_count": 1,
   "metadata": {},
   "outputs": [],
   "source": [
    "import json\n",
    "import requests\n",
    "from config import api_key\n",
    "import pandas as pd\n",
    "from pprint import pprint"
   ]
  },
  {
   "cell_type": "code",
   "execution_count": 2,
   "metadata": {},
   "outputs": [
    {
     "name": "stdout",
     "output_type": "stream",
     "text": [
      "https://app.ticketmaster.com/discovery/v2/events.json?classificationName=music&startDateTime=2019-07-19T00:01:00Z&endDateTime=2019-08-15T00:00:00Z&countryCodeUS&stateCode=NY&size=100&apikey=FjJIrEhUkqluIQWMFiZxArEO2RZqCrmy&page=0\n",
      "https://app.ticketmaster.com/discovery/v2/events.json?classificationName=music&startDateTime=2019-07-19T00:01:00Z&endDateTime=2019-08-15T00:00:00Z&countryCodeUS&stateCode=NY&size=100&apikey=FjJIrEhUkqluIQWMFiZxArEO2RZqCrmy&page=1\n",
      "https://app.ticketmaster.com/discovery/v2/events.json?classificationName=music&startDateTime=2019-07-19T00:01:00Z&endDateTime=2019-08-15T00:00:00Z&countryCodeUS&stateCode=NY&size=100&apikey=FjJIrEhUkqluIQWMFiZxArEO2RZqCrmy&page=2\n",
      "https://app.ticketmaster.com/discovery/v2/events.json?classificationName=music&startDateTime=2019-07-19T00:01:00Z&endDateTime=2019-08-15T00:00:00Z&countryCodeUS&stateCode=NY&size=100&apikey=FjJIrEhUkqluIQWMFiZxArEO2RZqCrmy&page=3\n",
      "https://app.ticketmaster.com/discovery/v2/events.json?classificationName=music&startDateTime=2019-07-19T00:01:00Z&endDateTime=2019-08-15T00:00:00Z&countryCodeUS&stateCode=NY&size=100&apikey=FjJIrEhUkqluIQWMFiZxArEO2RZqCrmy&page=4\n",
      "https://app.ticketmaster.com/discovery/v2/events.json?classificationName=music&startDateTime=2019-07-19T00:01:00Z&endDateTime=2019-08-15T00:00:00Z&countryCodeUS&stateCode=NY&size=100&apikey=FjJIrEhUkqluIQWMFiZxArEO2RZqCrmy&page=5\n",
      "https://app.ticketmaster.com/discovery/v2/events.json?classificationName=music&startDateTime=2019-07-19T00:01:00Z&endDateTime=2019-08-15T00:00:00Z&countryCodeUS&stateCode=NY&size=100&apikey=FjJIrEhUkqluIQWMFiZxArEO2RZqCrmy&page=6\n",
      "https://app.ticketmaster.com/discovery/v2/events.json?classificationName=music&startDateTime=2019-07-19T00:01:00Z&endDateTime=2019-08-15T00:00:00Z&countryCodeUS&stateCode=NY&size=100&apikey=FjJIrEhUkqluIQWMFiZxArEO2RZqCrmy&page=7\n",
      "https://app.ticketmaster.com/discovery/v2/events.json?classificationName=music&startDateTime=2019-07-19T00:01:00Z&endDateTime=2019-08-15T00:00:00Z&countryCodeUS&stateCode=NY&size=100&apikey=FjJIrEhUkqluIQWMFiZxArEO2RZqCrmy&page=8\n",
      "https://app.ticketmaster.com/discovery/v2/events.json?classificationName=music&startDateTime=2019-07-19T00:01:00Z&endDateTime=2019-08-15T00:00:00Z&countryCodeUS&stateCode=NY&size=100&apikey=FjJIrEhUkqluIQWMFiZxArEO2RZqCrmy&page=9\n",
      "https://app.ticketmaster.com/discovery/v2/events.json?classificationName=music&startDateTime=2019-08-15T00:01:00Z&endDateTime=2019-09-23T00:00:00Z&countryCodeUS&stateCode=NY&size=100&apikey=FjJIrEhUkqluIQWMFiZxArEO2RZqCrmy&page=0\n",
      "https://app.ticketmaster.com/discovery/v2/events.json?classificationName=music&startDateTime=2019-08-15T00:01:00Z&endDateTime=2019-09-23T00:00:00Z&countryCodeUS&stateCode=NY&size=100&apikey=FjJIrEhUkqluIQWMFiZxArEO2RZqCrmy&page=1\n",
      "https://app.ticketmaster.com/discovery/v2/events.json?classificationName=music&startDateTime=2019-08-15T00:01:00Z&endDateTime=2019-09-23T00:00:00Z&countryCodeUS&stateCode=NY&size=100&apikey=FjJIrEhUkqluIQWMFiZxArEO2RZqCrmy&page=2\n",
      "https://app.ticketmaster.com/discovery/v2/events.json?classificationName=music&startDateTime=2019-08-15T00:01:00Z&endDateTime=2019-09-23T00:00:00Z&countryCodeUS&stateCode=NY&size=100&apikey=FjJIrEhUkqluIQWMFiZxArEO2RZqCrmy&page=3\n",
      "https://app.ticketmaster.com/discovery/v2/events.json?classificationName=music&startDateTime=2019-08-15T00:01:00Z&endDateTime=2019-09-23T00:00:00Z&countryCodeUS&stateCode=NY&size=100&apikey=FjJIrEhUkqluIQWMFiZxArEO2RZqCrmy&page=4\n",
      "https://app.ticketmaster.com/discovery/v2/events.json?classificationName=music&startDateTime=2019-08-15T00:01:00Z&endDateTime=2019-09-23T00:00:00Z&countryCodeUS&stateCode=NY&size=100&apikey=FjJIrEhUkqluIQWMFiZxArEO2RZqCrmy&page=5\n",
      "https://app.ticketmaster.com/discovery/v2/events.json?classificationName=music&startDateTime=2019-08-15T00:01:00Z&endDateTime=2019-09-23T00:00:00Z&countryCodeUS&stateCode=NY&size=100&apikey=FjJIrEhUkqluIQWMFiZxArEO2RZqCrmy&page=6\n",
      "https://app.ticketmaster.com/discovery/v2/events.json?classificationName=music&startDateTime=2019-08-15T00:01:00Z&endDateTime=2019-09-23T00:00:00Z&countryCodeUS&stateCode=NY&size=100&apikey=FjJIrEhUkqluIQWMFiZxArEO2RZqCrmy&page=7\n",
      "https://app.ticketmaster.com/discovery/v2/events.json?classificationName=music&startDateTime=2019-08-15T00:01:00Z&endDateTime=2019-09-23T00:00:00Z&countryCodeUS&stateCode=NY&size=100&apikey=FjJIrEhUkqluIQWMFiZxArEO2RZqCrmy&page=8\n",
      "https://app.ticketmaster.com/discovery/v2/events.json?classificationName=music&startDateTime=2019-08-15T00:01:00Z&endDateTime=2019-09-23T00:00:00Z&countryCodeUS&stateCode=NY&size=100&apikey=FjJIrEhUkqluIQWMFiZxArEO2RZqCrmy&page=9\n",
      "https://app.ticketmaster.com/discovery/v2/events.json?classificationName=music&startDateTime=2019-09-23T00:01:00Z&endDateTime=2019-11-17T00:00:00Z&countryCodeUS&stateCode=NY&size=100&apikey=FjJIrEhUkqluIQWMFiZxArEO2RZqCrmy&page=0\n",
      "https://app.ticketmaster.com/discovery/v2/events.json?classificationName=music&startDateTime=2019-09-23T00:01:00Z&endDateTime=2019-11-17T00:00:00Z&countryCodeUS&stateCode=NY&size=100&apikey=FjJIrEhUkqluIQWMFiZxArEO2RZqCrmy&page=1\n",
      "https://app.ticketmaster.com/discovery/v2/events.json?classificationName=music&startDateTime=2019-09-23T00:01:00Z&endDateTime=2019-11-17T00:00:00Z&countryCodeUS&stateCode=NY&size=100&apikey=FjJIrEhUkqluIQWMFiZxArEO2RZqCrmy&page=2\n",
      "https://app.ticketmaster.com/discovery/v2/events.json?classificationName=music&startDateTime=2019-09-23T00:01:00Z&endDateTime=2019-11-17T00:00:00Z&countryCodeUS&stateCode=NY&size=100&apikey=FjJIrEhUkqluIQWMFiZxArEO2RZqCrmy&page=3\n",
      "https://app.ticketmaster.com/discovery/v2/events.json?classificationName=music&startDateTime=2019-09-23T00:01:00Z&endDateTime=2019-11-17T00:00:00Z&countryCodeUS&stateCode=NY&size=100&apikey=FjJIrEhUkqluIQWMFiZxArEO2RZqCrmy&page=4\n",
      "https://app.ticketmaster.com/discovery/v2/events.json?classificationName=music&startDateTime=2019-09-23T00:01:00Z&endDateTime=2019-11-17T00:00:00Z&countryCodeUS&stateCode=NY&size=100&apikey=FjJIrEhUkqluIQWMFiZxArEO2RZqCrmy&page=5\n",
      "https://app.ticketmaster.com/discovery/v2/events.json?classificationName=music&startDateTime=2019-09-23T00:01:00Z&endDateTime=2019-11-17T00:00:00Z&countryCodeUS&stateCode=NY&size=100&apikey=FjJIrEhUkqluIQWMFiZxArEO2RZqCrmy&page=6\n",
      "https://app.ticketmaster.com/discovery/v2/events.json?classificationName=music&startDateTime=2019-09-23T00:01:00Z&endDateTime=2019-11-17T00:00:00Z&countryCodeUS&stateCode=NY&size=100&apikey=FjJIrEhUkqluIQWMFiZxArEO2RZqCrmy&page=7\n",
      "https://app.ticketmaster.com/discovery/v2/events.json?classificationName=music&startDateTime=2019-09-23T00:01:00Z&endDateTime=2019-11-17T00:00:00Z&countryCodeUS&stateCode=NY&size=100&apikey=FjJIrEhUkqluIQWMFiZxArEO2RZqCrmy&page=8\n",
      "https://app.ticketmaster.com/discovery/v2/events.json?classificationName=music&startDateTime=2019-09-23T00:01:00Z&endDateTime=2019-11-17T00:00:00Z&countryCodeUS&stateCode=NY&size=100&apikey=FjJIrEhUkqluIQWMFiZxArEO2RZqCrmy&page=9\n",
      "https://app.ticketmaster.com/discovery/v2/events.json?classificationName=music&startDateTime=2019-11-17T00:01:00Z&endDateTime=&countryCodeUS&stateCode=NY&size=100&apikey=FjJIrEhUkqluIQWMFiZxArEO2RZqCrmy&page=0\n",
      "https://app.ticketmaster.com/discovery/v2/events.json?classificationName=music&startDateTime=2019-11-17T00:01:00Z&endDateTime=&countryCodeUS&stateCode=NY&size=100&apikey=FjJIrEhUkqluIQWMFiZxArEO2RZqCrmy&page=1\n",
      "https://app.ticketmaster.com/discovery/v2/events.json?classificationName=music&startDateTime=2019-11-17T00:01:00Z&endDateTime=&countryCodeUS&stateCode=NY&size=100&apikey=FjJIrEhUkqluIQWMFiZxArEO2RZqCrmy&page=2\n",
      "https://app.ticketmaster.com/discovery/v2/events.json?classificationName=music&startDateTime=2019-11-17T00:01:00Z&endDateTime=&countryCodeUS&stateCode=NY&size=100&apikey=FjJIrEhUkqluIQWMFiZxArEO2RZqCrmy&page=3\n",
      "https://app.ticketmaster.com/discovery/v2/events.json?classificationName=music&startDateTime=2019-11-17T00:01:00Z&endDateTime=&countryCodeUS&stateCode=NY&size=100&apikey=FjJIrEhUkqluIQWMFiZxArEO2RZqCrmy&page=4\n",
      "https://app.ticketmaster.com/discovery/v2/events.json?classificationName=music&startDateTime=2019-11-17T00:01:00Z&endDateTime=&countryCodeUS&stateCode=NY&size=100&apikey=FjJIrEhUkqluIQWMFiZxArEO2RZqCrmy&page=5\n",
      "https://app.ticketmaster.com/discovery/v2/events.json?classificationName=music&startDateTime=2019-11-17T00:01:00Z&endDateTime=&countryCodeUS&stateCode=NY&size=100&apikey=FjJIrEhUkqluIQWMFiZxArEO2RZqCrmy&page=6\n"
     ]
    },
    {
     "name": "stdout",
     "output_type": "stream",
     "text": [
      "https://app.ticketmaster.com/discovery/v2/events.json?classificationName=music&startDateTime=2019-11-17T00:01:00Z&endDateTime=&countryCodeUS&stateCode=NY&size=100&apikey=FjJIrEhUkqluIQWMFiZxArEO2RZqCrmy&page=7\n",
      "https://app.ticketmaster.com/discovery/v2/events.json?classificationName=music&startDateTime=2019-11-17T00:01:00Z&endDateTime=&countryCodeUS&stateCode=NY&size=100&apikey=FjJIrEhUkqluIQWMFiZxArEO2RZqCrmy&page=8\n",
      "https://app.ticketmaster.com/discovery/v2/events.json?classificationName=music&startDateTime=2019-11-17T00:01:00Z&endDateTime=&countryCodeUS&stateCode=NY&size=100&apikey=FjJIrEhUkqluIQWMFiZxArEO2RZqCrmy&page=9\n",
      "Data collection has been successfully completed\n"
     ]
    }
   ],
   "source": [
    "url = \"https://app.ticketmaster.com/discovery/v2/events.json?\"\n",
    "segment = \"music\"\n",
    "start = [\"2019-07-19T00:01:00Z\",\"2019-08-15T00:01:00Z\",\"2019-09-23T00:01:00Z\",\"2019-11-17T00:01:00Z\"]\n",
    "end = [\"2019-08-15T00:00:00Z\",\"2019-09-23T00:00:00Z\",\"2019-11-17T00:00:00Z\",\"\"]\n",
    "us = \"US\"\n",
    "state = \"NY\"\n",
    "#max limit of data per page\n",
    "size=100\n",
    "\n",
    "#list to append the data\n",
    "data = []\n",
    "\n",
    "for start,end in zip(start,end):\n",
    "\n",
    "    #final url\n",
    "    m_url = f\"{url}classificationName={segment}&startDateTime={start}&endDateTime={end}&countryCode{us}&stateCode={state}&size={size}&apikey={api_key}\"\n",
    "    \n",
    "    for page in range(10):\n",
    "        query_url = f\"{m_url}&page={page}\"\n",
    "        print(query_url)\n",
    "    \n",
    "        try:\n",
    "            results = requests.get(query_url).json()['_embedded']['events']\n",
    "        except:\n",
    "            pass\n",
    "        \n",
    "        #loop thru result to get the data\n",
    "        for item in results:\n",
    "            try:\n",
    "                artist = item['name']\n",
    "            except:\n",
    "                artist = \"N/A\"\n",
    "            try:\n",
    "                date = item['dates']['start']['localDate']\n",
    "            except:\n",
    "                date = \"N/A\"\n",
    "            try:\n",
    "                time = item['dates']['start']['localTime']\n",
    "            except:\n",
    "                time = \"N/A\"\n",
    "            try:\n",
    "                city = item['_embedded']['venues'][0]['city']['name']\n",
    "            except:\n",
    "                city = \"N/A\"\n",
    "            try:\n",
    "                state = item['_embedded']['venues'][0]['state']['stateCode']\n",
    "            except:\n",
    "                state = \"N/A\"\n",
    "            try:\n",
    "                p_min = item['priceRanges'][0]['min']\n",
    "            except:\n",
    "                p_min = \"N/A\"\n",
    "            try:\n",
    "                p_max = item['priceRanges'][0]['min']\n",
    "            except:\n",
    "                p_max = \"N/A\"\n",
    "        \n",
    "            data.append([artist,\n",
    "                         date,\n",
    "                         time,\n",
    "                         city,\n",
    "                         state,\n",
    "                         p_min,\n",
    "                         p_max])\n",
    "\n",
    "print(\"Data collection has been successfully completed\")\n",
    "\n",
    "#creating dataframe\n",
    "concerts = pd.DataFrame(data)\n",
    "concerts.columns = ['Artist',\n",
    "                    'Date',\n",
    "                    'Time',\n",
    "                    'City',\n",
    "                    'State',\n",
    "                    'Price_min',\n",
    "                    'Price_max']"
   ]
  },
  {
   "cell_type": "code",
   "execution_count": 5,
   "metadata": {
    "scrolled": true
   },
   "outputs": [],
   "source": [
    "#saving as scv (dont forget to change the name of output file when you run the code, we will merge the svcs later on)\n",
    "concerts.to_csv('output/concerts.csv',index = False)"
   ]
  },
  {
   "cell_type": "code",
   "execution_count": null,
   "metadata": {},
   "outputs": [],
   "source": []
  }
 ],
 "metadata": {
  "kernelspec": {
   "display_name": "Python [conda env:PythonData] *",
   "language": "python",
   "name": "conda-env-PythonData-py"
  },
  "language_info": {
   "codemirror_mode": {
    "name": "ipython",
    "version": 3
   },
   "file_extension": ".py",
   "mimetype": "text/x-python",
   "name": "python",
   "nbconvert_exporter": "python",
   "pygments_lexer": "ipython3",
   "version": "3.6.8"
  },
  "toc": {
   "base_numbering": 1,
   "nav_menu": {},
   "number_sections": true,
   "sideBar": true,
   "skip_h1_title": false,
   "title_cell": "Table of Contents",
   "title_sidebar": "Contents",
   "toc_cell": false,
   "toc_position": {},
   "toc_section_display": true,
   "toc_window_display": false
  },
  "varInspector": {
   "cols": {
    "lenName": 16,
    "lenType": 16,
    "lenVar": 40
   },
   "kernels_config": {
    "python": {
     "delete_cmd_postfix": "",
     "delete_cmd_prefix": "del ",
     "library": "var_list.py",
     "varRefreshCmd": "print(var_dic_list())"
    },
    "r": {
     "delete_cmd_postfix": ") ",
     "delete_cmd_prefix": "rm(",
     "library": "var_list.r",
     "varRefreshCmd": "cat(var_dic_list()) "
    }
   },
   "types_to_exclude": [
    "module",
    "function",
    "builtin_function_or_method",
    "instance",
    "_Feature"
   ],
   "window_display": false
  }
 },
 "nbformat": 4,
 "nbformat_minor": 2
}
