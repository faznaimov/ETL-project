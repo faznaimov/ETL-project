{
 "cells": [
  {
   "cell_type": "code",
   "execution_count": 1,
   "metadata": {},
   "outputs": [],
   "source": [
    "import json\n",
    "import requests\n",
    "from config import api_key\n",
    "import pandas as pd\n",
    "from pprint import pprint"
   ]
  },
  {
   "cell_type": "code",
   "execution_count": 3,
   "metadata": {},
   "outputs": [
    {
     "name": "stdout",
     "output_type": "stream",
     "text": [
      "https://app.ticketmaster.com/discovery/v2/events.json?classificationName=music&endDateTime=2019-08-18T23:59:59Z&countryCodeUS&stateCode=NY&page=10&size=100&apikey=0BtTdh1xQT1JAWQB7NBMp9PZnIgX6Vwh\n",
      "Collected data from page 10\n",
      "https://app.ticketmaster.com/discovery/v2/events.json?classificationName=music&endDateTime=2019-08-18T23:59:59Z&countryCodeUS&stateCode=N/A&page=11&size=100&apikey=0BtTdh1xQT1JAWQB7NBMp9PZnIgX6Vwh\n",
      "Collected data from page 11\n",
      "https://app.ticketmaster.com/discovery/v2/events.json?classificationName=music&endDateTime=2019-08-18T23:59:59Z&countryCodeUS&stateCode=N/A&page=12&size=100&apikey=0BtTdh1xQT1JAWQB7NBMp9PZnIgX6Vwh\n",
      "Collected data from page 12\n",
      "https://app.ticketmaster.com/discovery/v2/events.json?classificationName=music&endDateTime=2019-08-18T23:59:59Z&countryCodeUS&stateCode=N/A&page=13&size=100&apikey=0BtTdh1xQT1JAWQB7NBMp9PZnIgX6Vwh\n",
      "Collected data from page 13\n",
      "https://app.ticketmaster.com/discovery/v2/events.json?classificationName=music&endDateTime=2019-08-18T23:59:59Z&countryCodeUS&stateCode=N/A&page=14&size=100&apikey=0BtTdh1xQT1JAWQB7NBMp9PZnIgX6Vwh\n",
      "Collected data from page 14\n",
      "https://app.ticketmaster.com/discovery/v2/events.json?classificationName=music&endDateTime=2019-08-18T23:59:59Z&countryCodeUS&stateCode=N/A&page=15&size=100&apikey=0BtTdh1xQT1JAWQB7NBMp9PZnIgX6Vwh\n",
      "Collected data from page 15\n",
      "https://app.ticketmaster.com/discovery/v2/events.json?classificationName=music&endDateTime=2019-08-18T23:59:59Z&countryCodeUS&stateCode=N/A&page=16&size=100&apikey=0BtTdh1xQT1JAWQB7NBMp9PZnIgX6Vwh\n",
      "Collected data from page 16\n",
      "https://app.ticketmaster.com/discovery/v2/events.json?classificationName=music&endDateTime=2019-08-18T23:59:59Z&countryCodeUS&stateCode=N/A&page=17&size=100&apikey=0BtTdh1xQT1JAWQB7NBMp9PZnIgX6Vwh\n",
      "Collected data from page 17\n",
      "https://app.ticketmaster.com/discovery/v2/events.json?classificationName=music&endDateTime=2019-08-18T23:59:59Z&countryCodeUS&stateCode=N/A&page=18&size=100&apikey=0BtTdh1xQT1JAWQB7NBMp9PZnIgX6Vwh\n",
      "Collected data from page 18\n",
      "https://app.ticketmaster.com/discovery/v2/events.json?classificationName=music&endDateTime=2019-08-18T23:59:59Z&countryCodeUS&stateCode=N/A&page=19&size=100&apikey=0BtTdh1xQT1JAWQB7NBMp9PZnIgX6Vwh\n",
      "Collected data from page 19\n"
     ]
    }
   ],
   "source": [
    "url = \"https://app.ticketmaster.com/discovery/v2/events.json?\"\n",
    "segment = \"music\"\n",
    "limit = \"2019-08-18T23:59:59Z\"\n",
    "us = \"US\"\n",
    "state = \"NY\"\n",
    "#max limit of data per page\n",
    "size=100\n",
    "\n",
    "#list to append the data\n",
    "data = []\n",
    "#for page in range(10):\n",
    "for page in range(10,20,1):\n",
    "\n",
    "    #final url\n",
    "    query_url = f\"{url}classificationName={segment}&endDateTime={limit}&countryCode{us}&stateCode={state}&page={page}&size={size}&apikey={api_key}\"\n",
    "    print(query_url)\n",
    "    \n",
    "    results = requests.get(query_url).json()\n",
    "\n",
    "    #loop thru result to get the data\n",
    "    for item in results:\n",
    "        try:\n",
    "            artist = item['_embedded']['events']['name']\n",
    "        except:\n",
    "            artist = \"N/A\"\n",
    "        try:\n",
    "            date = item['_embedded']['events']['dates']['start']['localDate']\n",
    "        except:\n",
    "            date = \"N/A\"\n",
    "        try:\n",
    "            time = item['_embedded']['events']['dates']['start']['localTime']\n",
    "        except:\n",
    "            time = \"N/A\"\n",
    "        try:\n",
    "            city = item['_embedded']['venues'][0]['city']['name']\n",
    "        except:\n",
    "            city = \"N/A\"\n",
    "        try:\n",
    "            state = item['_embedded']['venues'][0]['state']['stateCode']\n",
    "        except:\n",
    "            state = \"N/A\"\n",
    "        try:\n",
    "            p_min = item['priceRanges'][0]['min']\n",
    "        except:\n",
    "            p_min = \"N/A\"\n",
    "        try:\n",
    "            p_max = item['priceRanges'][0]['min']\n",
    "        except:\n",
    "            p_max = \"N/A\"\n",
    "    \n",
    "        data.append([artist,\n",
    "                     date,\n",
    "                     time,\n",
    "                     city,\n",
    "                     state,\n",
    "                     p_min,\n",
    "                     p_max])\n",
    "    print(f\"Collected data from page {page}\")\n",
    "\n",
    "#creating dataframe\n",
    "concerts = pd.DataFrame(data)\n",
    "concerts.columns = ['Artist',\n",
    "                    'Date',\n",
    "                    'Time',\n",
    "                    'City',\n",
    "                    'State',\n",
    "                    'Price_min',\n",
    "                    'Price_max']"
   ]
  },
  {
   "cell_type": "code",
   "execution_count": 4,
   "metadata": {
    "scrolled": true
   },
   "outputs": [],
   "source": [
    "#saving as scv (dont forget to change the name of output file when you run the code, we will merge the svcs later on)\n",
    "concerts.to_csv('output/concerts1.csv',index = False)"
   ]
  },
  {
   "cell_type": "code",
   "execution_count": null,
   "metadata": {},
   "outputs": [],
   "source": []
  }
 ],
 "metadata": {
  "kernelspec": {
   "display_name": "Python [conda env:PythonData]",
   "language": "python",
   "name": "conda-env-PythonData-py"
  },
  "language_info": {
   "codemirror_mode": {
    "name": "ipython",
    "version": 3
   },
   "file_extension": ".py",
   "mimetype": "text/x-python",
   "name": "python",
   "nbconvert_exporter": "python",
   "pygments_lexer": "ipython3",
   "version": "3.6.8"
  },
  "toc": {
   "base_numbering": 1,
   "nav_menu": {},
   "number_sections": true,
   "sideBar": true,
   "skip_h1_title": false,
   "title_cell": "Table of Contents",
   "title_sidebar": "Contents",
   "toc_cell": false,
   "toc_position": {},
   "toc_section_display": true,
   "toc_window_display": false
  },
  "varInspector": {
   "cols": {
    "lenName": 16,
    "lenType": 16,
    "lenVar": 40
   },
   "kernels_config": {
    "python": {
     "delete_cmd_postfix": "",
     "delete_cmd_prefix": "del ",
     "library": "var_list.py",
     "varRefreshCmd": "print(var_dic_list())"
    },
    "r": {
     "delete_cmd_postfix": ") ",
     "delete_cmd_prefix": "rm(",
     "library": "var_list.r",
     "varRefreshCmd": "cat(var_dic_list()) "
    }
   },
   "types_to_exclude": [
    "module",
    "function",
    "builtin_function_or_method",
    "instance",
    "_Feature"
   ],
   "window_display": false
  }
 },
 "nbformat": 4,
 "nbformat_minor": 2
}
